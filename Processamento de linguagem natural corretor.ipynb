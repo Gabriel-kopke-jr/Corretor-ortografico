{
 "cells": [
  {
   "cell_type": "markdown",
   "id": "4c31a6bb",
   "metadata": {},
   "source": [
    "## Importando as bibliotecas"
   ]
  },
  {
   "cell_type": "code",
   "execution_count": 351,
   "id": "ab500fd9",
   "metadata": {},
   "outputs": [
    {
     "name": "stderr",
     "output_type": "stream",
     "text": [
      "[nltk_data] Downloading package punkt to\n",
      "[nltk_data]     C:\\Users\\Gabriel_kopke_jr\\AppData\\Roaming\\nltk_data...\n",
      "[nltk_data]   Package punkt is already up-to-date!\n"
     ]
    },
    {
     "data": {
      "text/plain": [
       "True"
      ]
     },
     "execution_count": 351,
     "metadata": {},
     "output_type": "execute_result"
    }
   ],
   "source": [
    "import numpy as np \n",
    "import pandas as pd\n",
    "import nltk\n",
    "nltk.download('punkt')"
   ]
  },
  {
   "cell_type": "markdown",
   "id": "67911f1c",
   "metadata": {},
   "source": [
    "## Declarando funções"
   ]
  },
  {
   "cell_type": "code",
   "execution_count": 352,
   "id": "3e248df5",
   "metadata": {},
   "outputs": [],
   "source": [
    "def separa_palavras(tokens_list):\n",
    "    words_list = []\n",
    "    for token in tokens_list:\n",
    "        if token.isalpha():\n",
    "            words_list.append(token)\n",
    "    \n",
    "    return words_list"
   ]
  },
  {
   "cell_type": "code",
   "execution_count": 353,
   "id": "4c8d2849",
   "metadata": {},
   "outputs": [],
   "source": [
    "def normaliza_tokens(lista_tokens):\n",
    "    lista_palavras_normalizadas = []\n",
    "    for token in lista_tokens:\n",
    "        lista_palavras_normalizadas.append(token.lower())\n",
    "    return lista_palavras_normalizadas"
   ]
  },
  {
   "cell_type": "code",
   "execution_count": 376,
   "id": "09c7bf9d",
   "metadata": {},
   "outputs": [],
   "source": [
    "\n",
    "def insere_letras(fatias):\n",
    "    novas_palavras = []\n",
    "    letras = 'abcdefghijklmnopqrstuvwxyzàáâãèéêìíîòóôõùúûç'\n",
    "    for E,D in fatias:\n",
    "        for letra in letras: \n",
    "            novas_palavras.append(E + letra + D)\n",
    "    return novas_palavras\n",
    "\n",
    "def deletando_caracteres(fatias):\n",
    "    novas_palavras = []\n",
    "    for E,D in fatias: \n",
    "        novas_palavras.append(E + D[1:])\n",
    "    return novas_palavras\n",
    "\n",
    "def troca_letra(fatias):\n",
    "    novas_palavras = []\n",
    "    letras = 'abcdefghijklmnopqrstuvwxyzàáâãèéêìíîòóôõùúûç'\n",
    "    for E, D in fatias:\n",
    "        for letra in letras:\n",
    "            novas_palavras.append(E + letra +D[1:])\n",
    "    return novas_palavras\n",
    "\n",
    "def inverte_letra(fatias):\n",
    "    novas_palavras = []\n",
    "    for E,D in fatias:\n",
    "        if len(D)>1:\n",
    "            novas_palavras.append(E + D[1] +D[0]+D[2:])\n",
    "    return novas_palavras\n",
    "\n",
    "def gerador_palavras(palavra):\n",
    "    fatias  = []\n",
    "    palavras_geradas_com_correcoes = []\n",
    "    for i in range(len(palavra)+1):\n",
    "        fatias.append((palavra[:i],palavra[i:]))\n",
    "    palavras_geradas_com_correcoes += insere_letras(fatias)\n",
    "    palavras_geradas_com_correcoes += deletando_caracteres(fatias)\n",
    "    palavras_geradas_com_correcoes +=troca_letra(fatias)\n",
    "    palavras_geradas_com_correcoes += inverte_letra(fatias)\n",
    "    \n",
    "    return palavras_geradas_com_correcoes\n",
    "\n",
    "def gerador_turbinado(palavras_geradas):\n",
    "    novas_palavras = []\n",
    "    for palavras in palavras_geradas:\n",
    "        novas_palavras += gerador_palavras(palavras)\n",
    "    \n",
    "    return novas_palavras\n",
    "\n",
    "\n",
    "def probabilidade_string(palavra_gerada):\n",
    "    return frequencia[palavra_gerada]/len(words_normalizadas_sem_repeticoes)\n",
    "\n",
    "def corretor_palavra_errada(palavra_errada):\n",
    "    \n",
    "    palavras_geradas = gerador_palavras(palavra_errada)\n",
    "    palavra_correta = max(palavras_geradas,key = probabilidade_string)\n",
    "    return palavra_correta\n",
    "\n",
    "\n",
    "def novo_corretor(palavra_errada):\n",
    "    palavras_geradas = gerador_palavras(palavra_errada)\n",
    "    palavras_geradas_turbinado = gerador_turbinado(palavra_errada)\n",
    "    todas_palavras = set(palavras_geradas + palavras_geradas_turbinado)\n",
    "    candidatos = [palavra_errada]\n",
    "    for palavra in todas_palavras:\n",
    "        if palavra in words_normalizadas_sem_repeticoes:\n",
    "            candidatos.append(palavra)\n",
    "    palavra_correta = max(candidatos,key = probabilidade_string)\n",
    "    return palavra_correta"
   ]
  },
  {
   "cell_type": "code",
   "execution_count": 377,
   "id": "1e3e0877",
   "metadata": {},
   "outputs": [],
   "source": [
    "def cria_dados_teste(nome_arquivo):\n",
    "    lista_palavras_teste = []\n",
    "    f = open(nome_arquivo,'r',encoding = 'utf-8')\n",
    "    for linha in f:\n",
    "        correta, errada = linha.split()\n",
    "        lista_palavras_teste.append((correta,errada))\n",
    "    f.close()\n",
    "    return lista_palavras_teste"
   ]
  },
  {
   "cell_type": "code",
   "execution_count": 378,
   "id": "1e48ca22",
   "metadata": {},
   "outputs": [],
   "source": [
    "def avaliador(testes,vocabulario):\n",
    "    numero_palavras = len(testes)\n",
    "    acertou = 0\n",
    "    desconhecida = 0 \n",
    "    for correta,errada in testes:\n",
    "        palavra_corrigida = corretor_palavra_errada(errada)\n",
    "        if palavra_corrigida == correta:\n",
    "            acertou +=1\n",
    "        else:\n",
    "            desconhecida += (correta not in vocabulario)\n",
    "    taxa_acerto = 100*acertou/numero_palavras\n",
    "    taxa_desconhecida = 100*desconhecida/numero_palavras\n",
    "    print('taxa de acerto do corretor é: {}%, e desconhecido {}%'.format(round(taxa_acerto,2),round(taxa_desconhecida,2)))\n",
    "    \n",
    "\n",
    "def avaliador2(testes,vocabulario):\n",
    "    numero_palavras = len(testes)\n",
    "    acertou = 0\n",
    "    desconhecida = 0 \n",
    "    for correta,errada in testes:\n",
    "        palavra_corrigida = novo_corretor(errada)\n",
    "        if palavra_corrigida == correta:\n",
    "            acertou +=1\n",
    "        else:\n",
    "            desconhecida += (correta not in vocabulario)\n",
    "    taxa_acerto = 100*acertou/numero_palavras\n",
    "    taxa_desconhecida = 100*desconhecida/numero_palavras\n",
    "    print('taxa de acerto do corretor é: {}%, e desconhecido {}%'.format(round(taxa_acerto,2),round(taxa_desconhecida,2)))\n",
    "    \n",
    "    "
   ]
  },
  {
   "cell_type": "code",
   "execution_count": 379,
   "id": "002c3bb3",
   "metadata": {},
   "outputs": [],
   "source": [
    "    frequencia = nltk.FreqDist(words_normalizadas)"
   ]
  },
  {
   "cell_type": "markdown",
   "id": "a8801ab7",
   "metadata": {},
   "source": [
    "## Abrindo os arquivos para trabalho"
   ]
  },
  {
   "cell_type": "code",
   "execution_count": 380,
   "id": "a193efd8",
   "metadata": {},
   "outputs": [],
   "source": [
    "with open('artigos.txt','r',encoding = 'utf-8') as f:\n",
    "    artigos = f.read()"
   ]
  },
  {
   "cell_type": "code",
   "execution_count": 381,
   "id": "56c12f73",
   "metadata": {},
   "outputs": [
    {
     "data": {
      "text/plain": [
       "2605043"
      ]
     },
     "execution_count": 381,
     "metadata": {},
     "output_type": "execute_result"
    }
   ],
   "source": [
    "len(artigos)"
   ]
  },
  {
   "cell_type": "code",
   "execution_count": 382,
   "id": "e8c69489",
   "metadata": {},
   "outputs": [],
   "source": [
    "tokens_artigos = nltk.tokenize.word_tokenize(artigos)"
   ]
  },
  {
   "cell_type": "code",
   "execution_count": 383,
   "id": "5fc95114",
   "metadata": {},
   "outputs": [],
   "source": [
    "words = separa_palavras(tokens_artigos)"
   ]
  },
  {
   "cell_type": "code",
   "execution_count": 384,
   "id": "1967a3f6",
   "metadata": {},
   "outputs": [],
   "source": [
    "words_normalizadas = normaliza_tokens(words)"
   ]
  },
  {
   "cell_type": "code",
   "execution_count": 385,
   "id": "0685800a",
   "metadata": {},
   "outputs": [
    {
     "name": "stdout",
     "output_type": "stream",
     "text": [
      "['imagem', 'temos', 'a', 'seguinte', 'classe', 'que', 'representa', 'um', 'usuário', 'no']\n"
     ]
    }
   ],
   "source": [
    "print(words_normalizadas[:10])"
   ]
  },
  {
   "cell_type": "code",
   "execution_count": 386,
   "id": "d0959c21",
   "metadata": {},
   "outputs": [],
   "source": [
    "words_normalizadas_sem_repeticoes = list(set(words_normalizadas))"
   ]
  },
  {
   "cell_type": "code",
   "execution_count": 387,
   "id": "c886f495",
   "metadata": {},
   "outputs": [
    {
     "data": {
      "text/plain": [
       "0.005199025182778229"
      ]
     },
     "execution_count": 387,
     "metadata": {},
     "output_type": "execute_result"
    }
   ],
   "source": [
    "probabilidade_string(\"lógica\")"
   ]
  },
  {
   "cell_type": "code",
   "execution_count": 388,
   "id": "dea63048",
   "metadata": {},
   "outputs": [],
   "source": [
    "teste = cria_dados_teste('palavras.txt')"
   ]
  },
  {
   "cell_type": "code",
   "execution_count": 395,
   "id": "49dbf361",
   "metadata": {
    "scrolled": true
   },
   "outputs": [
    {
     "data": {
      "text/plain": [
       "'achupa'"
      ]
     },
     "execution_count": 395,
     "metadata": {},
     "output_type": "execute_result"
    }
   ],
   "source": [
    "corretor_palavra_errada('chupa')"
   ]
  },
  {
   "cell_type": "code",
   "execution_count": 372,
   "id": "7b64fc90",
   "metadata": {},
   "outputs": [
    {
     "name": "stdout",
     "output_type": "stream",
     "text": [
      "taxa de acerto do corretor é: 76.34%, e desconhecido 6.99%\n"
     ]
    }
   ],
   "source": [
    "avaliador(teste,words_normalizadas)"
   ]
  },
  {
   "cell_type": "code",
   "execution_count": null,
   "id": "6b348816",
   "metadata": {},
   "outputs": [],
   "source": []
  },
  {
   "cell_type": "code",
   "execution_count": null,
   "id": "6b551739",
   "metadata": {},
   "outputs": [],
   "source": []
  },
  {
   "cell_type": "code",
   "execution_count": null,
   "id": "455e6c77",
   "metadata": {},
   "outputs": [],
   "source": []
  },
  {
   "cell_type": "code",
   "execution_count": null,
   "id": "bf21f2a0",
   "metadata": {},
   "outputs": [],
   "source": []
  },
  {
   "cell_type": "code",
   "execution_count": null,
   "id": "da7cb5cb",
   "metadata": {},
   "outputs": [],
   "source": []
  }
 ],
 "metadata": {
  "kernelspec": {
   "display_name": "Python 3 (ipykernel)",
   "language": "python",
   "name": "python3"
  },
  "language_info": {
   "codemirror_mode": {
    "name": "ipython",
    "version": 3
   },
   "file_extension": ".py",
   "mimetype": "text/x-python",
   "name": "python",
   "nbconvert_exporter": "python",
   "pygments_lexer": "ipython3",
   "version": "3.9.7"
  }
 },
 "nbformat": 4,
 "nbformat_minor": 5
}
